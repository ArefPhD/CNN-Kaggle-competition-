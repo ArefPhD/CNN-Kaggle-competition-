{
  "nbformat": 4,
  "nbformat_minor": 0,
  "metadata": {
    "colab": {
      "name": "Untitled138.ipynb",
      "private_outputs": true,
      "provenance": []
    },
    "kernelspec": {
      "name": "python3",
      "display_name": "Python 3"
    },
    "language_info": {
      "name": "python"
    }
  },
  "cells": [
    {
      "cell_type": "code",
      "source": [
        "import pandas as pd\n",
        "import numpy as np"
      ],
      "metadata": {
        "id": "LFbXfsfyFC7i"
      },
      "execution_count": null,
      "outputs": []
    },
    {
      "cell_type": "code",
      "source": [
        "from google.colab import files\n",
        "\n",
        "uploaded = files.upload()"
      ],
      "metadata": {
        "id": "bLD4_Z-Ksvlw"
      },
      "execution_count": null,
      "outputs": []
    },
    {
      "cell_type": "code",
      "source": [
        "df = pd.read_csv('Merged.csv')"
      ],
      "metadata": {
        "id": "99bYzgXPMikn"
      },
      "execution_count": null,
      "outputs": []
    },
    {
      "cell_type": "code",
      "source": [
        "df"
      ],
      "metadata": {
        "id": "aOBl9e0ZMktG"
      },
      "execution_count": null,
      "outputs": []
    },
    {
      "cell_type": "code",
      "source": [
        "S=[]\n",
        "for i in range (0,858):\n",
        "    if i<379:\n",
        "       S.append(0)\n",
        "    else:\n",
        "       S.append(1)"
      ],
      "metadata": {
        "id": "WWrSPaWRJInw"
      },
      "execution_count": null,
      "outputs": []
    },
    {
      "cell_type": "code",
      "source": [
        "S=np.array(S)"
      ],
      "metadata": {
        "id": "YHF0FA-lM7HH"
      },
      "execution_count": null,
      "outputs": []
    },
    {
      "cell_type": "code",
      "source": [
        "df['label']=S\n"
      ],
      "metadata": {
        "id": "sUR_2m8AJHKH"
      },
      "execution_count": null,
      "outputs": []
    },
    {
      "cell_type": "code",
      "source": [
        "df"
      ],
      "metadata": {
        "id": "w5m4a6HlFA6p"
      },
      "execution_count": null,
      "outputs": []
    },
    {
      "cell_type": "markdown",
      "source": [
        "# **A schematic of the first row**"
      ],
      "metadata": {
        "id": "eG_t_3wMFKNx"
      }
    },
    {
      "cell_type": "code",
      "source": [
        "x=df[:1]\n",
        "x=x.to_numpy()\n",
        "x=x.reshape((28, 28))\n",
        "from matplotlib import pyplot as plt\n",
        "plt.imshow(x, interpolation='nearest')\n",
        "plt.show()"
      ],
      "metadata": {
        "id": "jGuf4eEUE8i0"
      },
      "execution_count": null,
      "outputs": []
    },
    {
      "cell_type": "code",
      "source": [
        "x=df1[:1]\n",
        "x=x.to_numpy()\n",
        "x=x.reshape((28, 28))\n",
        "from matplotlib import pyplot as plt\n",
        "plt.imshow(x, interpolation='nearest')\n",
        "plt.show()"
      ],
      "metadata": {
        "id": "P1IR14f6F4HJ"
      },
      "execution_count": null,
      "outputs": []
    },
    {
      "cell_type": "code",
      "source": [
        "df"
      ],
      "metadata": {
        "id": "Um1mSy7PPJzG"
      },
      "execution_count": null,
      "outputs": []
    },
    {
      "cell_type": "code",
      "source": [
        "x=df.iloc[0:858, 0:784]"
      ],
      "metadata": {
        "id": "VH3zLhtpOuDm"
      },
      "execution_count": null,
      "outputs": []
    },
    {
      "cell_type": "code",
      "source": [
        "X=df.iloc[0:858, 0:784]\n",
        "y = df['label']\n",
        "from sklearn.model_selection import train_test_split\n",
        "\n",
        "X_train, X_test, y_train, y_test = train_test_split(X, y, test_size=0.2, random_state=1)"
      ],
      "metadata": {
        "id": "SmSMul8KOSP-"
      },
      "execution_count": null,
      "outputs": []
    },
    {
      "cell_type": "code",
      "source": [
        "from sklearn.tree import DecisionTreeClassifier\n",
        "\n",
        "# Instantiate a DecisionTreeClassifier 'dt' with a maximum depth of 6\n",
        "dt = DecisionTreeClassifier(max_depth=6, random_state=1)\n",
        "\n",
        "# Fit dt to the training set\n",
        "dt.fit(X_train, y_train)\n",
        "\n",
        "# Predict test set labels\n",
        "y_pred = dt.predict(X_test)\n",
        "print(y_pred[0:5])"
      ],
      "metadata": {
        "id": "sPD6QvAxPYj9"
      },
      "execution_count": null,
      "outputs": []
    },
    {
      "cell_type": "markdown",
      "source": [
        "# **Our accuracy is 73%**"
      ],
      "metadata": {
        "id": "1P7FgJBSPeTV"
      }
    },
    {
      "cell_type": "code",
      "source": [
        "from sklearn.metrics import accuracy_score\n",
        "\n",
        "# Predict test set labels\n",
        "y_pred = dt.predict(X_test)\n",
        "\n",
        "# Compute test set accuracy\n",
        "acc = accuracy_score(y_test, y_pred)\n",
        "print(\"Test set accuracy: {:.2f}\".format(acc))"
      ],
      "metadata": {
        "id": "RdTam1ZkPcqV"
      },
      "execution_count": null,
      "outputs": []
    }
  ]
}